{
 "cells": [
  {
   "cell_type": "code",
   "execution_count": 3,
   "id": "fb7d13ba",
   "metadata": {},
   "outputs": [
    {
     "name": "stdout",
     "output_type": "stream",
     "text": [
      "1,2,4,8,16,32,"
     ]
    }
   ],
   "source": [
    "'''Write a Python program to get the Fibonacci series between 0 to 50\n",
    "'''\n",
    "a=0\n",
    "b=1\n",
    "while b<50:\n",
    "    print(b,end=',')\n",
    "    a=b\n",
    "    b=a+b\n",
    "    "
   ]
  }
 ],
 "metadata": {
  "kernelspec": {
   "display_name": "Python 3 (ipykernel)",
   "language": "python",
   "name": "python3"
  },
  "language_info": {
   "codemirror_mode": {
    "name": "ipython",
    "version": 3
   },
   "file_extension": ".py",
   "mimetype": "text/x-python",
   "name": "python",
   "nbconvert_exporter": "python",
   "pygments_lexer": "ipython3",
   "version": "3.10.0"
  }
 },
 "nbformat": 4,
 "nbformat_minor": 5
}
